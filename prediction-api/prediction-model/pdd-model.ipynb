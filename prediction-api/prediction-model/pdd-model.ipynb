{
 "cells": [
  {
   "cell_type": "code",
   "execution_count": 14,
   "metadata": {},
   "outputs": [],
   "source": [
    "import tensorflow as tf\n",
    "import keras\n",
    "import requests\n",
    "import cv2\n",
    "import os\n",
    "import numpy as np\n",
    "# import skimage"
   ]
  },
  {
   "cell_type": "code",
   "execution_count": null,
   "metadata": {},
   "outputs": [],
   "source": [
    "class_indices = {0: 'Apple___Apple_scab', 1: 'Apple___Black_rot', 2: 'Apple___Cedar_apple_rust', 3: 'Apple___healthy', 4: 'Blueberry___healthy', 5: 'Cherry_(including_sour)___Powdery_mildew', 6: 'Cherry_(including_sour)___healthy', 7: 'Corn_(maize)___Cercospora_leaf_spot Gray_leaf_spot', 8: 'Corn_(maize)___Common_rust_', 9: 'Corn_(maize)___Northern_Leaf_Blight', 10: 'Corn_(maize)___healthy', 11: 'Grape___Black_rot', 12: 'Grape___Esca_(Black_Measles)', 13: 'Grape___Leaf_blight_(Isariopsis_Leaf_Spot)', 14: 'Grape___healthy', 15: 'Orange___Haunglongbing_(Citrus_greening)', 16: 'Peach___Bacterial_spot', 17: 'Peach___healthy', 18: 'Pepper,_bell___Bacterial_spot', 19: 'Pepper,_bell___healthy', 20: 'Potato___Early_blight', 21: 'Potato___Late_blight', 22: 'Potato___healthy', 23: 'Raspberry___healthy', 24: 'Soybean___healthy', 25: 'Squash___Powdery_mildew', 26: 'Strawberry___Leaf_scorch', 27: 'Strawberry___healthy', 28: 'Tomato___Bacterial_spot', 29: 'Tomato___Early_blight', 30: 'Tomato___Late_blight', 31: 'Tomato___Leaf_Mold', 32: 'Tomato___Septoria_leaf_spot', 33: 'Tomato___Spider_mites Two-spotted_spider_mite', 34: 'Tomato___Target_Spot', 35: 'Tomato___Tomato_Yellow_Leaf_Curl_Virus', 36: 'Tomato___Tomato_mosaic_virus', 37: 'Tomato___healthy'}"
   ]
  },
  {
   "cell_type": "code",
   "execution_count": 15,
   "metadata": {},
   "outputs": [
    {
     "data": {
      "text/plain": [
       "True"
      ]
     },
     "execution_count": 15,
     "metadata": {},
     "output_type": "execute_result"
    }
   ],
   "source": [
    "curr_w_dir = os.getcwd()\n",
    "img_base='leaf-fungus.png'\n",
    "img_path = os.path.join(curr_w_dir, img_base)\n",
    "\n",
    "url = \" https://www.notcutts.co.uk/wordpress/wp-content/uploads/2018/11/fungal-leaf-spot.jpg\"\n",
    "# Fetch the image from the URL\n",
    "response = requests.get(url)\n",
    "\n",
    "# Convert the image to a numpy array\n",
    "image_array = np.frombuffer(response.content, np.uint8)\n",
    "\n",
    "# Decode the image array to OpenCV format\n",
    "image = cv2.imdecode(image_array, cv2.IMREAD_COLOR)\n",
    "\n",
    "image = cv2.resize(image,(256,256))\n",
    "IMAGE_TEST = image\n",
    "# # Now you can use the image with OpenCV functions\n",
    "cv2.imwrite(img_path, image)"
   ]
  },
  {
   "cell_type": "code",
   "execution_count": 12,
   "metadata": {},
   "outputs": [
    {
     "name": "stderr",
     "output_type": "stream",
     "text": [
      "WARNING:absl:Compiled the loaded model, but the compiled metrics have yet to be built. `model.compile_metrics` will be empty until you train or evaluate the model.\n"
     ]
    }
   ],
   "source": [
    "loaded_model_xception = keras.models.load_model('/Users/danielthorne/pdd-test/prediction-api/prediction-model/plant_disease_cnn_model_xception.h5')"
   ]
  },
  {
   "cell_type": "code",
   "execution_count": null,
   "metadata": {},
   "outputs": [],
   "source": [
    "img_size = (256, 256)\n",
    "# img_base='strawberry-leaf-scorch'\n",
    "img_path = f\"/kaggle/working/{img_base}.png\"\n",
    "predictions = loaded_model_xception.predict(preprocess_image(img_path))\n",
    "print(predictions[0])\n",
    "predicted_class = np.argmax( predictions, axis=1)[0]\n",
    "top_5_predicted_class = np.argsort(predictions[0])[-5:][::-1]\n",
    "predicted_class_explicit = [ class_indices[p_class] for p_class in top_5_predicted_class]\n",
    "print(f\" The list of potential classes are : \")\n",
    "predicted_class_explicit"
   ]
  }
 ],
 "metadata": {
  "kernelspec": {
   "display_name": "myenv",
   "language": "python",
   "name": "python3"
  },
  "language_info": {
   "codemirror_mode": {
    "name": "ipython",
    "version": 3
   },
   "file_extension": ".py",
   "mimetype": "text/x-python",
   "name": "python",
   "nbconvert_exporter": "python",
   "pygments_lexer": "ipython3",
   "version": "3.9.6"
  }
 },
 "nbformat": 4,
 "nbformat_minor": 2
}
