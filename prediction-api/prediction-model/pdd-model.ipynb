{
 "cells": [
  {
   "cell_type": "code",
   "execution_count": 20,
   "metadata": {},
   "outputs": [],
   "source": [
    "import tensorflow as tf\n",
    "import keras\n",
    "import requests\n",
    "import cv2\n",
    "import os\n",
    "import numpy as np\n",
    "import skimage\n",
    "import matplotlib as mpl\n",
    "import matplotlib.pyplot as plt"
   ]
  },
  {
   "cell_type": "code",
   "execution_count": 16,
   "metadata": {},
   "outputs": [],
   "source": [
    "class_indices = {0: 'Apple___Apple_scab', 1: 'Apple___Black_rot', 2: 'Apple___Cedar_apple_rust', 3: 'Apple___healthy', 4: 'Blueberry___healthy', 5: 'Cherry_(including_sour)___Powdery_mildew', 6: 'Cherry_(including_sour)___healthy', 7: 'Corn_(maize)___Cercospora_leaf_spot Gray_leaf_spot', 8: 'Corn_(maize)___Common_rust_', 9: 'Corn_(maize)___Northern_Leaf_Blight', 10: 'Corn_(maize)___healthy', 11: 'Grape___Black_rot', 12: 'Grape___Esca_(Black_Measles)', 13: 'Grape___Leaf_blight_(Isariopsis_Leaf_Spot)', 14: 'Grape___healthy', 15: 'Orange___Haunglongbing_(Citrus_greening)', 16: 'Peach___Bacterial_spot', 17: 'Peach___healthy', 18: 'Pepper,_bell___Bacterial_spot', 19: 'Pepper,_bell___healthy', 20: 'Potato___Early_blight', 21: 'Potato___Late_blight', 22: 'Potato___healthy', 23: 'Raspberry___healthy', 24: 'Soybean___healthy', 25: 'Squash___Powdery_mildew', 26: 'Strawberry___Leaf_scorch', 27: 'Strawberry___healthy', 28: 'Tomato___Bacterial_spot', 29: 'Tomato___Early_blight', 30: 'Tomato___Late_blight', 31: 'Tomato___Leaf_Mold', 32: 'Tomato___Septoria_leaf_spot', 33: 'Tomato___Spider_mites Two-spotted_spider_mite', 34: 'Tomato___Target_Spot', 35: 'Tomato___Tomato_Yellow_Leaf_Curl_Virus', 36: 'Tomato___Tomato_mosaic_virus', 37: 'Tomato___healthy'}"
   ]
  },
  {
   "cell_type": "code",
   "execution_count": 15,
   "metadata": {},
   "outputs": [
    {
     "data": {
      "text/plain": [
       "True"
      ]
     },
     "execution_count": 15,
     "metadata": {},
     "output_type": "execute_result"
    }
   ],
   "source": [
    "curr_w_dir = os.getcwd()\n",
    "img_base='leaf-fungus.png'\n",
    "img_path = os.path.join(curr_w_dir, img_base)\n",
    "\n",
    "url = \" https://www.notcutts.co.uk/wordpress/wp-content/uploads/2018/11/fungal-leaf-spot.jpg\"\n",
    "# Fetch the image from the URL\n",
    "response = requests.get(url)\n",
    "\n",
    "# Convert the image to a numpy array\n",
    "image_array = np.frombuffer(response.content, np.uint8)\n",
    "\n",
    "# Decode the image array to OpenCV format\n",
    "image = cv2.imdecode(image_array, cv2.IMREAD_COLOR)\n",
    "\n",
    "image = cv2.resize(image,(256,256))\n",
    "IMAGE_TEST = image\n",
    "# # Now you can use the image with OpenCV functions\n",
    "cv2.imwrite(img_path, image)"
   ]
  },
  {
   "cell_type": "code",
   "execution_count": 12,
   "metadata": {},
   "outputs": [
    {
     "name": "stderr",
     "output_type": "stream",
     "text": [
      "WARNING:absl:Compiled the loaded model, but the compiled metrics have yet to be built. `model.compile_metrics` will be empty until you train or evaluate the model.\n"
     ]
    }
   ],
   "source": [
    "loaded_model_xception = keras.models.load_model('/Users/danielthorne/pdd-test/prediction-api/prediction-model/plant_disease_cnn_model_xception.h5')"
   ]
  },
  {
   "cell_type": "code",
   "execution_count": 18,
   "metadata": {},
   "outputs": [],
   "source": [
    "# Function to preprocess a single image\n",
    "def preprocess_image(image_path):\n",
    "    image = skimage.io.imread(image_path)\n",
    "    image_array = np.array(image) / 255.0  # Normalize to [0,1]\n",
    "    return np.expand_dims(image_array, axis=0)  # Add batch dimension"
   ]
  },
  {
   "cell_type": "code",
   "execution_count": 19,
   "metadata": {},
   "outputs": [
    {
     "name": "stdout",
     "output_type": "stream",
     "text": [
      "\u001b[1m1/1\u001b[0m \u001b[32m━━━━━━━━━━━━━━━━━━━━\u001b[0m\u001b[37m\u001b[0m \u001b[1m1s\u001b[0m 582ms/step\n",
      "[5.8860861e-04 4.8790528e-03 1.0115963e-05 8.2681247e-08 3.3332412e-10\n",
      " 1.2103921e-05 9.8948345e-05 3.3344133e-04 1.2951687e-03 2.0308043e-04\n",
      " 3.2331820e-06 7.1392082e-02 1.6900467e-03 8.6339889e-03 3.7720234e-05\n",
      " 9.5069961e-09 2.9005946e-06 1.6014151e-07 3.0967662e-05 3.0151605e-06\n",
      " 4.5153199e-04 8.5523288e-07 2.8951214e-05 3.3932161e-02 1.5079355e-05\n",
      " 6.3020634e-05 5.3737241e-01 1.5524121e-04 2.9875108e-04 2.0833617e-01\n",
      " 8.5443474e-02 1.0583639e-05 3.0585300e-04 1.9843036e-07 4.4158056e-02\n",
      " 3.0433286e-05 1.7449012e-04 7.9847523e-06]\n",
      " The list of potential classes are : \n"
     ]
    },
    {
     "data": {
      "text/plain": [
       "['Strawberry___Leaf_scorch',\n",
       " 'Tomato___Early_blight',\n",
       " 'Tomato___Late_blight',\n",
       " 'Grape___Black_rot',\n",
       " 'Tomato___Target_Spot']"
      ]
     },
     "execution_count": 19,
     "metadata": {},
     "output_type": "execute_result"
    }
   ],
   "source": [
    "img_size = (256, 256)\n",
    "predictions = loaded_model_xception.predict(preprocess_image(img_path))\n",
    "print(predictions[0])\n",
    "predicted_class = np.argmax( predictions, axis=1)[0]\n",
    "top_5_predicted_class = np.argsort(predictions[0])[-5:][::-1]\n",
    "predicted_class_explicit = [ class_indices[p_class] for p_class in top_5_predicted_class]\n",
    "print(f\" The list of potential classes are : \")\n",
    "predicted_class_explicit"
   ]
  },
  {
   "cell_type": "code",
   "execution_count": 21,
   "metadata": {},
   "outputs": [
    {
     "name": "stdout",
     "output_type": "stream",
     "text": [
      "<Functional name=functional, built=True>\n",
      "tf.Tensor(26, shape=(), dtype=int64)\n"
     ]
    },
    {
     "data": {
      "image/png": "[encoded data removed]",
      "text/plain": [
       "<Figure size 480x480 with 1 Axes>"
      ]
     },
     "metadata": {},
     "output_type": "display_data"
    }
   ],
   "source": [
    "\n",
    "model = loaded_model_xception\n",
    "# inputs = model.inputs\n",
    "# outputs = model(inputs)\n",
    "# redefined_model = tf.keras.Model(inputs=inputs, outputs=outputs) \n",
    "grad_model = tf.keras.models.Model(\n",
    "        model.inputs, [model.get_layer(\"block14_sepconv2_act\").output, model.output]\n",
    ")\n",
    "print(grad_model)\n",
    "with tf.GradientTape() as tape:\n",
    "    last_conv_layer_output, preds = grad_model(preprocess_image(img_path))\n",
    "    \n",
    "    pred_index = tf.argmax(preds[0])\n",
    "    print(pred_index)\n",
    "    class_channel = preds[ : ,pred_index]\n",
    "grads = tape.gradient(class_channel, last_conv_layer_output)\n",
    "# This is a vector where each entry is the mean intensity of the gradient\n",
    "# over a specific feature map channel\n",
    "pooled_grads = tf.reduce_mean(grads, axis=(0, 1, 2))\n",
    "\n",
    "# We multiply each channel in the feature map array\n",
    "# by \"how important this channel is\" with regard to the top predicted class\n",
    "# then sum all the channels to obtain the heatmap class activation\n",
    "last_conv_layer_output = last_conv_layer_output[0]\n",
    "heatmap = last_conv_layer_output @ pooled_grads[..., tf.newaxis]\n",
    "heatmap = tf.squeeze(heatmap)\n",
    "\n",
    "# For visualization purpose, we will also normalize the heatmap between 0 & 1\n",
    "heatmap = tf.maximum(heatmap, 0) / tf.math.reduce_max(heatmap)\n",
    "plt.matshow(heatmap.numpy())\n",
    "plt.show()"
   ]
  },
  {
   "cell_type": "code",
   "execution_count": null,
   "metadata": {},
   "outputs": [],
   "source": []
  }
 ],
 "metadata": {
  "kernelspec": {
   "display_name": "myenv",
   "language": "python",
   "name": "python3"
  },
  "language_info": {
   "codemirror_mode": {
    "name": "ipython",
    "version": 3
   },
   "file_extension": ".py",
   "mimetype": "text/x-python",
   "name": "python",
   "nbconvert_exporter": "python",
   "pygments_lexer": "ipython3",
   "version": "3.9.6"
  }
 },
 "nbformat": 4,
 "nbformat_minor": 2
}
